{
 "cells": [
  {
   "cell_type": "markdown",
   "metadata": {},
   "source": [
    "# Calculate the total rainfall in Lund for the last months. Write the result and which months \n",
    "Example: ''Between 2017-12-22 and 2018-04-03 the total rainfall in Lund was 203.3 millimeters\n",
    "\n"
   ]
  },
  {
   "cell_type": "code",
   "execution_count": 384,
   "metadata": {},
   "outputs": [
    {
     "name": "stdout",
     "output_type": "stream",
     "text": [
      "﻿stationsnamn;klimatnummer;mäthöjd (meter över marken)\n",
      "lund;53430;2.0\n",
      "\n",
      "parameternamn;beskrivning;enhet\n",
      "nederbördsmängd;summa, 1 gång per månad;millimetre\n",
      "\n",
      "tidsperiod (fr.o.m);tidsperiod (t.o.m);höjd (meter över havet);latitud (decimalgrader);longitud (decimalgrader)\n",
      "1748-04-01 00:00:00;1974-05-31 23:59:59;73.0;55.7089;13.2026\n",
      "1974-06-01 00:00:00;1992-12-06 23:59:59;50.0;55.7089;13.2026\n",
      "1993-01-01 00:00:00;1997-05-31 23:59:59;25.0;55.6930;13.2290\n",
      "1997-06-01 00:00:00;2021-01-31 23:59:59;26.451;55.6932;13.2251\n",
      "\n",
      "från datum tid (utc);till datum tid (utc);representativ månad;nederbördsmängd;kvalitet;;tidsutsnitt:\n",
      "2020-10-02 06:00:01;2020-11-01 06:00:00;2020-10;81.6;y;;data från senaste fyra månaderna\n",
      "2020-11-01 06:00:01;2020-12-01 06:00:00;2020-11;34.1;y;;tidsperiod (fr.o.m.) = 2020-10-10 00:00:01 (utc)\n",
      "2020-12-02 06:00:01;2021-01-01 06:00:00;2020-12;59.4;y;;tidsperiod (t.o.m.) = 2021-02-17 18:00:00 (utc)\n",
      ";;;;;;värdet är summerat över = 1 månad\n",
      ";;;;;;\n",
      ";;;;;;kvalitetskoderna:\n",
      ";;;;;;grön (g) = kontrollerade och godkända värden.\n",
      ";;;;;;gul (y) = misstänkta eller aggregerade värden. grovt kontrollerade arkivdata och okontrollerade realtidsdata (senaste 2 tim).\n",
      ";;;;;;\n",
      ";;;;;;orsaker till saknade data:\n",
      ";;;;;;  stationen eller givaren har varit ur funktion.\n",
      "\n"
     ]
    }
   ],
   "source": [
    "## import requests\n",
    "import requests\n",
    "import os\n",
    "# get csv file from web and print it contents (it can take a while to load/compile full text)\n",
    "data = 'https://opendata-download-metobs.smhi.se/api/version/latest/parameter/23/station/53430/period/latest-months/data.csv'\n",
    "r = requests.get(data)\n",
    "file= r.text\n",
    "#read it a as a string no new lines\n",
    "#file = file.replace(\"\\n\",\" \").replace(\"\\r\",\"\")\n",
    "# only lower letters\n",
    "file = file.lower()\n",
    "#print the data contents\n",
    "print(file)"
   ]
  },
  {
   "cell_type": "code",
   "execution_count": 389,
   "metadata": {},
   "outputs": [
    {
     "name": "stdout",
     "output_type": "stream",
     "text": [
      "2020-10-02 06:00:01;2020-11-01 06:00:00;2020-10;81.6;y;;data från senaste fyra månaderna\n",
      "2020-11-01 06:00:01;2020-12-01 06:00:00;2020-11;34.1;y;;tidsperiod (fr.o.m.) = 2020-10-10 00:00:01 (utc)\n",
      "2020-12-02 06:00:01;2021-01-01 06:00:00;2020-12;59.4;y;;tidsperiod (t.o.m.) = 2021-02-17 18:00:00 (utc)\n"
     ]
    }
   ],
   "source": [
    "#get only the range of values/rows we need for visibility\n",
    "row = file.split(\"\\n\")\n",
    "\n",
    "for x in row[13:16]:\n",
    "    print(x)\n"
   ]
  },
  {
   "cell_type": "code",
   "execution_count": 394,
   "metadata": {},
   "outputs": [],
   "source": [
    "# create tuples with titles \n",
    "# use namedtuple to create a custom Inventory class\n",
    "#från datum tid (utc); till datum tid (utc); representativ månad; nederbördsmängd; kvalitet;; tidsutsnitt:\n",
    "from collections import namedtuple\n",
    "map = namedtuple(\"MapTitlesToValues\", ['frånDatumTid', 'tillDatumTid', 'repMånad', 'nederbördsmängd', 'kvalitet', 'tidsutsnitt'])"
   ]
  },
  {
   "cell_type": "code",
   "execution_count": null,
   "metadata": {},
   "outputs": [],
   "source": []
  },
  {
   "cell_type": "code",
   "execution_count": 400,
   "metadata": {},
   "outputs": [
    {
     "name": "stdout",
     "output_type": "stream",
     "text": [
      "MapTitlesToValues(frånDatumTid='2020-10-02', tillDatumTid=';2020-11-01 06:00:00', repMånad='2020-10;', nederbördsmängd=81.6, kvalitet='y', tidsutsnitt=' månaderna')\n",
      "MapTitlesToValues(frånDatumTid='2020-11-01', tillDatumTid=';2020-12-01 06:00:00', repMånad='2020-11;', nederbördsmängd=34.1, kvalitet='y', tidsutsnitt=' 2020-10-1')\n",
      "MapTitlesToValues(frånDatumTid='2020-12-02', tillDatumTid=';2021-01-01 06:00:00', repMånad='2020-12;', nederbördsmängd=59.4, kvalitet='y', tidsutsnitt='2021-02-17')\n"
     ]
    }
   ],
   "source": [
    "#map the values to their respective title and value\n",
    "invntry = [x for x in file.split(\"\\n\") if x.startswith(\"2\")]\n",
    "inventory = [map(x[:10], (x[19:39]), (x[40:48]), float(x[48:52]), (x[53]), (x[78:88])) \n",
    "             for x in invntry ]\n",
    "\n",
    "for x in inventory[:5]:\n",
    "    print(x)\n",
    "    \n"
   ]
  },
  {
   "cell_type": "code",
   "execution_count": 401,
   "metadata": {},
   "outputs": [
    {
     "name": "stdout",
     "output_type": "stream",
     "text": [
      "Between 2020-11-01 and 2021-02-17 the total rainfall in Lund was  152.9  millimeters\n"
     ]
    }
   ],
   "source": [
    "# get the right index of the name tuples. Then sum up all the rainfall from the different months\n",
    "totalRainfall = inventory[1][3] + inventory[2][3] + inventory[2][3]\n",
    "#display total rainfall in Lund\n",
    "print(\"Between\", inventory[1][0], \"and\", inventory[2][5], \"the total rainfall in Lund was \", totalRainfall, \" millimeters\" )\n"
   ]
  },
  {
   "cell_type": "code",
   "execution_count": null,
   "metadata": {},
   "outputs": [],
   "source": []
  },
  {
   "cell_type": "markdown",
   "metadata": {},
   "source": [
    "\n",
    "# Calculate the average temperature in Sweden for the last hour.\n",
    "Example: The average temperature in Sweden in the last hour was 4.58 degrees\n",
    "*Not completed*"
   ]
  },
  {
   "cell_type": "code",
   "execution_count": 381,
   "metadata": {},
   "outputs": [
    {
     "name": "stdout",
     "output_type": "stream",
     "text": [
      "{'spp': -9, 'pcat': 0, 'pmin': 0.0, 'pmean': 0.0, 'pmax': 0.0, 'pmedian': 0.0, 'tcc_mean': 8, 'lcc_mean': 8, 'mcc_mean': 0, 'hcc_mean': 2, 'msl': 1020.9, 't': -3.5, 'vis': 8.6, 'wd': 102, 'ws': 2.2, 'r': 90, 'tstm': 0, 'gust': 7.1, 'Wsymb2': 6}\n"
     ]
    }
   ],
   "source": [
    "\n",
    "#TODO: create a list that holds all lon and lat cordinates from the JSON file:\n",
    "#https://opendata-download-metfcst.smhi.se/api/category/pmp3g/version/2/geotype/multipoint.json\n",
    "#TODO: create a loop that goes through all lon/lats from the list and sets the url to each lon/lat from the list\n",
    "\n",
    "import json\n",
    "dict = {}\n",
    "#static url for now \n",
    "url = 'https://opendata-download-metfcst.smhi.se/api/category/pmp3g/version/2/geotype/point/lon/16/lat/58/data.json'\n",
    "data = requests.get(url).json()\n",
    "formattedData = data['timeSeries'][0]['parameters'][0]['values'][0]\n",
    "formattedData = data['timeSeries'][0]['parameters'][0]['name'][0]\n",
    "\n",
    "#populate a dictionary with all the values for the latest timestamp (within the last hour)\n",
    "for i in range(0,19):\n",
    "    values = data['timeSeries'][0]['parameters'][i]['values'][0]\n",
    "    name = data['timeSeries'][0]['parameters'][i]['name']\n",
    "    dict[name] = values\n",
    "\n",
    "\n",
    "print(dict)\n",
    "\n",
    "\n"
   ]
  },
  {
   "cell_type": "code",
   "execution_count": 382,
   "metadata": {},
   "outputs": [
    {
     "name": "stdout",
     "output_type": "stream",
     "text": [
      "The temperature of lon 16 and lat 58 is -3.5 degrees celsius\n"
     ]
    }
   ],
   "source": [
    "print('The temperature of lon 16 and lat 58 is', dict['t'], 'degrees celsius')"
   ]
  },
  {
   "cell_type": "code",
   "execution_count": 383,
   "metadata": {},
   "outputs": [],
   "source": [
    "# TODO: iterate through all of the lon/lat URL's to gather each city's dict['t'] \n",
    "# value, add all of them up and compute the average \n",
    "#(count the number of total dict['t'] values so you can divide at the end)"
   ]
  },
  {
   "cell_type": "code",
   "execution_count": null,
   "metadata": {},
   "outputs": [],
   "source": []
  },
  {
   "cell_type": "code",
   "execution_count": null,
   "metadata": {},
   "outputs": [],
   "source": []
  },
  {
   "cell_type": "code",
   "execution_count": null,
   "metadata": {},
   "outputs": [],
   "source": []
  },
  {
   "cell_type": "code",
   "execution_count": 379,
   "metadata": {},
   "outputs": [],
   "source": []
  },
  {
   "cell_type": "code",
   "execution_count": null,
   "metadata": {},
   "outputs": [],
   "source": []
  }
 ],
 "metadata": {
  "kernelspec": {
   "display_name": "Python 3",
   "language": "python",
   "name": "python3"
  },
  "language_info": {
   "codemirror_mode": {
    "name": "ipython",
    "version": 3
   },
   "file_extension": ".py",
   "mimetype": "text/x-python",
   "name": "python",
   "nbconvert_exporter": "python",
   "pygments_lexer": "ipython3",
   "version": "3.8.7"
  }
 },
 "nbformat": 4,
 "nbformat_minor": 4
}
